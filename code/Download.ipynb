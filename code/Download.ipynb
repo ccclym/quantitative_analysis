{
 "cells": [
  {
   "cell_type": "markdown",
   "id": "4c9d129a",
   "metadata": {},
   "source": [
    "Code to download 2019 csv files from the TLC website used for analysis"
   ]
  },
  {
   "cell_type": "code",
   "execution_count": 1,
   "id": "26f8dad3",
   "metadata": {
    "ExecuteTime": {
     "start_time": "2021-07-04T02:08:29.908Z"
    }
   },
   "outputs": [
    {
     "name": "stdout",
     "output_type": "stream",
     "text": [
      "Done downloading yellow_tripdata_2019-01.csv to raw_data with size 0.64GB\n",
      "Done downloading yellow_tripdata_2019-02.csv to raw_data with size 0.61GB\n",
      "Done downloading yellow_tripdata_2019-03.csv to raw_data with size 0.68GB\n",
      "Done downloading yellow_tripdata_2019-04.csv to raw_data with size 0.64GB\n",
      "Done downloading yellow_tripdata_2019-05.csv to raw_data with size 0.65GB\n",
      "Done downloading yellow_tripdata_2019-06.csv to raw_data with size 0.60GB\n"
     ]
    }
   ],
   "source": [
    "from os.path import getsize\n",
    "from urllib.request import urlretrieve\n",
    "\n",
    "output_dir = \"raw_data\"\n",
    "\n",
    "fname_template = \"yellow_tripdata_2019\"\n",
    "\n",
    "for m in range(1, 7):\n",
    "    month = str(m).zfill(2)\n",
    "    out = f'{fname_template}-{month}.csv'\n",
    "    url = f\"https://s3.amazonaws.com/nyc-tlc/trip+data/{out}\"\n",
    "    urlretrieve(url, f\"{output_dir}/{out}\")\n",
    "\n",
    "    print(f\"Done downloading {out} to {output_dir} with size {getsize(f'{output_dir}/{out}') / 1073741824:.2f}GB\")"
   ]
  },
  {
   "cell_type": "markdown",
   "id": "51ee68cf-8c58-426e-a004-02651a66a0e8",
   "metadata": {},
   "source": [
    "Code to download 2020 csv files from the TLC website used for prediction"
   ]
  },
  {
   "cell_type": "code",
   "execution_count": 2,
   "id": "c8e51403-5b43-4bef-9843-3f4c913d99d1",
   "metadata": {},
   "outputs": [
    {
     "name": "stdout",
     "output_type": "stream",
     "text": [
      "Done downloading yellow_tripdata_2020-04.csv to raw_data with size 0.02GB\n",
      "Done downloading yellow_tripdata_2020-05.csv to raw_data with size 0.03GB\n",
      "Done downloading yellow_tripdata_2020-06.csv to raw_data with size 0.05GB\n"
     ]
    }
   ],
   "source": [
    "from os.path import getsize\n",
    "from urllib.request import urlretrieve\n",
    "\n",
    "output_dir = \"raw_data\"\n",
    "\n",
    "fname_template = \"yellow_tripdata_2020\"\n",
    "\n",
    "for m in range(4, 7):\n",
    "    month = str(m).zfill(2)\n",
    "    out = f'{fname_template}-{month}.csv'\n",
    "    url = f\"https://s3.amazonaws.com/nyc-tlc/trip+data/{out}\"\n",
    "    urlretrieve(url, f\"{output_dir}/{out}\")\n",
    "\n",
    "    print(f\"Done downloading {out} to {output_dir} with size {getsize(f'{output_dir}/{out}') / 1073741824:.2f}GB\")"
   ]
  }
 ],
 "metadata": {
  "kernelspec": {
   "display_name": "Python 3",
   "language": "python",
   "name": "python3"
  },
  "language_info": {
   "codemirror_mode": {
    "name": "ipython",
    "version": 3
   },
   "file_extension": ".py",
   "mimetype": "text/x-python",
   "name": "python",
   "nbconvert_exporter": "python",
   "pygments_lexer": "ipython3",
   "version": "3.8.8"
  },
  "latex_envs": {
   "LaTeX_envs_menu_present": true,
   "autoclose": false,
   "autocomplete": true,
   "bibliofile": "biblio.bib",
   "cite_by": "apalike",
   "current_citInitial": 1,
   "eqLabelWithNumbers": true,
   "eqNumInitial": 1,
   "hotkeys": {
    "equation": "Ctrl-E",
    "itemize": "Ctrl-I"
   },
   "labels_anchors": false,
   "latex_user_defs": false,
   "report_style_numbering": false,
   "user_envs_cfg": false
  },
  "toc": {
   "base_numbering": 1,
   "nav_menu": {},
   "number_sections": true,
   "sideBar": true,
   "skip_h1_title": false,
   "title_cell": "Table of Contents",
   "title_sidebar": "Contents",
   "toc_cell": false,
   "toc_position": {},
   "toc_section_display": true,
   "toc_window_display": false
  },
  "varInspector": {
   "cols": {
    "lenName": 16,
    "lenType": 16,
    "lenVar": 40
   },
   "kernels_config": {
    "python": {
     "delete_cmd_postfix": "",
     "delete_cmd_prefix": "del ",
     "library": "var_list.py",
     "varRefreshCmd": "print(var_dic_list())"
    },
    "r": {
     "delete_cmd_postfix": ") ",
     "delete_cmd_prefix": "rm(",
     "library": "var_list.r",
     "varRefreshCmd": "cat(var_dic_list()) "
    }
   },
   "types_to_exclude": [
    "module",
    "function",
    "builtin_function_or_method",
    "instance",
    "_Feature"
   ],
   "window_display": false
  }
 },
 "nbformat": 4,
 "nbformat_minor": 5
}
