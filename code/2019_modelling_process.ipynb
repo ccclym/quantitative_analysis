{
 "cells": [
  {
   "cell_type": "code",
   "execution_count": 1,
   "id": "fafe12b7-cafb-40e6-bf53-e752c1a2d536",
   "metadata": {},
   "outputs": [],
   "source": [
    "import numpy as np \n",
    "import pandas as pd \n",
    "import seaborn as sns\n",
    "import matplotlib.pyplot as plt \n",
    "\n",
    "from sklearn.preprocessing import StandardScaler\n",
    "from sklearn.model_selection import train_test_split\n",
    "from sklearn.linear_model import LogisticRegression\n",
    "from sklearn.metrics import accuracy_score\n",
    "from sklearn.metrics import confusion_matrix, classification_report"
   ]
  },
  {
   "cell_type": "markdown",
   "id": "cdb7a328-1e3d-4769-8399-4eaf268587f1",
   "metadata": {},
   "source": [
    "# Loading and Sampling"
   ]
  },
  {
   "cell_type": "code",
   "execution_count": 2,
   "id": "1a3b967d-d0dc-40e3-94cf-97ccccd337f0",
   "metadata": {},
   "outputs": [],
   "source": [
    "df = pd.read_csv('preprocessed_data/2019_yellow_processed.csv')\n",
    "df = df.sample(n=1000000).reset_index(drop=True)"
   ]
  },
  {
   "cell_type": "markdown",
   "id": "50fb8242-b202-4d99-845c-fd3bd792c735",
   "metadata": {},
   "source": [
    "# Divide class by eqaul-width"
   ]
  },
  {
   "cell_type": "code",
   "execution_count": 3,
   "id": "aa092680-38ef-4641-9b4c-334fe4224933",
   "metadata": {},
   "outputs": [
    {
     "data": {
      "text/plain": [
       "count    1000000.000000\n",
       "mean           3.019148\n",
       "std            2.354872\n",
       "min            0.010000\n",
       "25%            1.700000\n",
       "50%            2.350000\n",
       "75%            3.380000\n",
       "max           42.540000\n",
       "Name: tip_amount, dtype: float64"
      ]
     },
     "execution_count": 3,
     "metadata": {},
     "output_type": "execute_result"
    }
   ],
   "source": [
    "df['tip_amount'].describe()"
   ]
  },
  {
   "cell_type": "code",
   "execution_count": 4,
   "id": "d7cb7e8e-d77e-48a4-957d-f4883d1e9b97",
   "metadata": {},
   "outputs": [],
   "source": [
    "df.loc[df['tip_amount']<2,'tip_class']=int(0)\n",
    "df.loc[(df['tip_amount']>=2) & (df['tip_amount']<4),'tip_class']=int(1)\n",
    "df.loc[(df['tip_amount']>=4),'tip_class']=int(2)"
   ]
  },
  {
   "cell_type": "markdown",
   "id": "d062a8cf-ebdd-4073-b180-0c11e5e2afec",
   "metadata": {},
   "source": [
    "# Make training dataset "
   ]
  },
  {
   "cell_type": "code",
   "execution_count": 5,
   "id": "a7e1a405-f68d-48fe-8f83-3d06699c2143",
   "metadata": {},
   "outputs": [],
   "source": [
    "outcome_df = df['tip_class']"
   ]
  },
  {
   "cell_type": "code",
   "execution_count": 6,
   "id": "31d7730b-a74c-4049-a4db-80dd22d2d55c",
   "metadata": {},
   "outputs": [],
   "source": [
    "train_df = df[['date_type', 'TAVG', 'SNOW', 'SNWD', 'time_of_day', 'fare_amount', 'trip_distance', 'total_amount']]"
   ]
  },
  {
   "cell_type": "markdown",
   "id": "e6c0d95f-ca2f-4c43-bbd4-e725343b88c9",
   "metadata": {},
   "source": [
    "# Preprocessing "
   ]
  },
  {
   "cell_type": "code",
   "execution_count": 7,
   "id": "494b71ae-b3d0-44f2-9279-17c2e6a84376",
   "metadata": {},
   "outputs": [],
   "source": [
    "train_df = pd.concat([train_df, \n",
    "                      pd.get_dummies(train_df['date_type'], prefix='date_type'), \n",
    "                      pd.get_dummies(train_df['time_of_day'], prefix='t_of_d')], axis=1) \n",
    "train_df.drop(columns=['date_type', 'time_of_day'], inplace=True)"
   ]
  },
  {
   "cell_type": "code",
   "execution_count": 8,
   "id": "6ecafbd6-19e0-4cd2-99fe-a34d82b2bd98",
   "metadata": {},
   "outputs": [],
   "source": [
    "for colname in ['TAVG', 'SNOW', 'SNWD', 'fare_amount', 'trip_distance', 'total_amount']:\n",
    "    train_df[colname] = StandardScaler().fit_transform(train_df[[colname]]).flatten()"
   ]
  },
  {
   "cell_type": "markdown",
   "id": "3d6bed7e-3f9a-4e61-b332-1e534ad219ed",
   "metadata": {},
   "source": [
    "# Modelling"
   ]
  },
  {
   "cell_type": "code",
   "execution_count": 9,
   "id": "6a94fd37-d0bf-440d-8a23-9b1b98c8c960",
   "metadata": {},
   "outputs": [],
   "source": [
    "x_train, x_dev, y_train, y_dev = train_test_split(train_df, outcome_df, test_size=0.25)"
   ]
  },
  {
   "cell_type": "code",
   "execution_count": 10,
   "id": "1e78fcc9-2a56-4e95-aaa9-f633c149deed",
   "metadata": {},
   "outputs": [
    {
     "data": {
      "text/plain": [
       "(0.8329146666666667, 0.833676)"
      ]
     },
     "execution_count": 10,
     "metadata": {},
     "output_type": "execute_result"
    }
   ],
   "source": [
    "model = LogisticRegression(max_iter=10000, multi_class='multinomial', solver='newton-cg').fit(x_train, y_train)\n",
    "model.score(x_train, y_train), model.score(x_dev, y_dev)"
   ]
  },
  {
   "cell_type": "code",
   "execution_count": 11,
   "id": "0c5f6adc-c7a3-46d8-a99e-4d8983e6e5f0",
   "metadata": {},
   "outputs": [
    {
     "data": {
      "image/png": "[encoded data removed]",
      "text/plain": [
       "<Figure size 432x288 with 2 Axes>"
      ]
     },
     "metadata": {
      "needs_background": "light"
     },
     "output_type": "display_data"
    }
   ],
   "source": [
    "y_dev_pred = model.predict(x_dev)\n",
    "cnf_matrix = confusion_matrix(y_dev, y_dev_pred)\n",
    "class_names = list(np.unique(y_dev))\n",
    "class_names[0] = ['low']\n",
    "class_names[1] = ['medium']\n",
    "class_names[2] = ['high']\n",
    "\n",
    "sns.heatmap(cnf_matrix/np.sum(cnf_matrix), xticklabels=class_names, yticklabels=class_names, annot=True,\n",
    "            fmt='.3%', cmap='PuBu')\n",
    "plt.tight_layout()\n",
    "plt.title('Confusion Matrix of model', fontsize=15)\n",
    "plt.ylabel('Actual label',fontsize=12)\n",
    "plt.xlabel('Predicted label',fontsize=12)\n",
    "plt.savefig('Confusion Matrix of model.png')"
   ]
  },
  {
   "cell_type": "code",
   "execution_count": 12,
   "id": "28981e36-32d3-4a81-b27b-e7f8651abde5",
   "metadata": {},
   "outputs": [
    {
     "name": "stdout",
     "output_type": "stream",
     "text": [
      "Accuracy:0.834\n"
     ]
    }
   ],
   "source": [
    "print('Accuracy:{:.3f}'.format(accuracy_score(y_dev, y_dev_pred)))"
   ]
  },
  {
   "cell_type": "code",
   "execution_count": 13,
   "id": "6f66da68-7daf-4d88-88e0-ec4897ebb272",
   "metadata": {},
   "outputs": [
    {
     "name": "stdout",
     "output_type": "stream",
     "text": [
      "              precision    recall  f1-score   support\n",
      "\n",
      "         0.0       0.82      0.79      0.80     86077\n",
      "         1.0       0.81      0.85      0.83    118035\n",
      "         2.0       0.95      0.86      0.90     45888\n",
      "\n",
      "    accuracy                           0.83    250000\n",
      "   macro avg       0.86      0.84      0.85    250000\n",
      "weighted avg       0.84      0.83      0.83    250000\n",
      "\n"
     ]
    }
   ],
   "source": [
    "# create classification report\n",
    "class_report = classification_report(y_dev, y_dev_pred)\n",
    "print(class_report)"
   ]
  },
  {
   "cell_type": "markdown",
   "id": "928828de-b9c9-4a26-b230-80c8fb643197",
   "metadata": {},
   "source": [
    "# Prediction"
   ]
  },
  {
   "cell_type": "code",
   "execution_count": 14,
   "id": "079fdb8c-c3a5-45d8-a6be-afe5b0d7af3c",
   "metadata": {},
   "outputs": [],
   "source": [
    "df_predict = pd.read_csv('preprocessed_data/2020_yellow_processed.csv')"
   ]
  },
  {
   "cell_type": "code",
   "execution_count": 15,
   "id": "02bd5afe-a220-4285-a8ec-081f421c5760",
   "metadata": {},
   "outputs": [],
   "source": [
    "# Preprocessing test dataset\n",
    "test_df = df_predict[['date_type', 'TAVG', 'SNOW', 'SNWD', 'time_of_day', 'fare_amount', 'trip_distance', 'total_amount']]\n",
    "test_df = pd.concat([test_df, \n",
    "                      pd.get_dummies(test_df['date_type'], prefix='date_type'), \n",
    "                      pd.get_dummies(test_df['time_of_day'], prefix='t_of_d')], axis=1) \n",
    "test_df.drop(columns=['date_type', 'time_of_day'], inplace=True)\n",
    "for colname in ['TAVG', 'SNOW', 'SNWD', 'fare_amount', 'trip_distance', 'total_amount']:\n",
    "    test_df[colname] = StandardScaler().fit_transform(test_df[[colname]]).flatten()"
   ]
  },
  {
   "cell_type": "code",
   "execution_count": 16,
   "id": "7498efec-c9ac-473f-a035-e3bf7d23ba38",
   "metadata": {},
   "outputs": [],
   "source": [
    "pred = model.predict(test_df)"
   ]
  },
  {
   "cell_type": "code",
   "execution_count": 17,
   "id": "47349d82-5702-415f-9ab5-438083d19506",
   "metadata": {},
   "outputs": [],
   "source": [
    "# divide class by eqaul-width for test set \n",
    "df_predict.loc[df_predict['tip_amount']<2,'tip_class']=int(0)\n",
    "df_predict.loc[(df_predict['tip_amount']>=2) & (df_predict['tip_amount']<4),'tip_class']=int(1)\n",
    "df_predict.loc[(df_predict['tip_amount']>=4),'tip_class']=int(2)"
   ]
  },
  {
   "cell_type": "code",
   "execution_count": 18,
   "id": "3c5642ae-680b-4a68-a400-1cbffe97f61e",
   "metadata": {},
   "outputs": [],
   "source": [
    "# extract the column of actual class\n",
    "pred_actual = df_predict['tip_class']"
   ]
  },
  {
   "cell_type": "code",
   "execution_count": 19,
   "id": "238c112e-7ade-4179-9599-ab3003109653",
   "metadata": {},
   "outputs": [
    {
     "name": "stdout",
     "output_type": "stream",
     "text": [
      "Accuracy:0.774\n"
     ]
    }
   ],
   "source": [
    "print('Accuracy:{:.3f}'.format(accuracy_score(pred_actual,pred)))"
   ]
  },
  {
   "cell_type": "code",
   "execution_count": 20,
   "id": "c777a222-99eb-4681-97da-55ab529b2c52",
   "metadata": {},
   "outputs": [
    {
     "data": {
      "image/png": "[encoded data removed]",
      "text/plain": [
       "<Figure size 432x288 with 2 Axes>"
      ]
     },
     "metadata": {
      "needs_background": "light"
     },
     "output_type": "display_data"
    }
   ],
   "source": [
    "cnf_matrix = confusion_matrix(pred_actual,pred)\n",
    "class_names = list(np.unique(pred_actual))\n",
    "\n",
    "class_names[0] = ['low']\n",
    "class_names[1] = ['medium']\n",
    "class_names[2] = ['high']\n",
    "sns.heatmap(cnf_matrix/np.sum(cnf_matrix), xticklabels=class_names, yticklabels=class_names, annot=True,\n",
    "            fmt='.3%', cmap='Purples')\n",
    "plt.tight_layout()\n",
    "plt.title('Confusion Matrix of prediction',fontsize=15)\n",
    "plt.ylabel('Actual label',fontsize=12)\n",
    "plt.xlabel('Predicted label',fontsize=12)\n",
    "plt.savefig('Confusion Matrix of prediction.png')"
   ]
  },
  {
   "cell_type": "code",
   "execution_count": 21,
   "id": "a08e849b-f005-4f6d-85ee-5e303e7923f7",
   "metadata": {},
   "outputs": [
    {
     "name": "stdout",
     "output_type": "stream",
     "text": [
      "              precision    recall  f1-score   support\n",
      "\n",
      "         0.0       0.76      0.84      0.80    179384\n",
      "         1.0       0.86      0.68      0.76    279576\n",
      "         2.0       0.64      0.96      0.77     80595\n",
      "\n",
      "    accuracy                           0.77    539555\n",
      "   macro avg       0.75      0.83      0.77    539555\n",
      "weighted avg       0.79      0.77      0.77    539555\n",
      "\n"
     ]
    }
   ],
   "source": [
    "class_report_prediction=classification_report(pred_actual,pred)\n",
    "print(class_report_prediction)"
   ]
  }
 ],
 "metadata": {
  "kernelspec": {
   "display_name": "Python 3",
   "language": "python",
   "name": "python3"
  },
  "language_info": {
   "codemirror_mode": {
    "name": "ipython",
    "version": 3
   },
   "file_extension": ".py",
   "mimetype": "text/x-python",
   "name": "python",
   "nbconvert_exporter": "python",
   "pygments_lexer": "ipython3",
   "version": "3.8.8"
  }
 },
 "nbformat": 4,
 "nbformat_minor": 5
}
