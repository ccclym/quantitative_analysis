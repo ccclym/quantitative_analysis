{
 "cells": [
  {
   "cell_type": "code",
   "execution_count": 1,
   "id": "38a4dfeb",
   "metadata": {},
   "outputs": [],
   "source": [
    "import pandas as pd\n",
    "import numpy as np"
   ]
  },
  {
   "cell_type": "code",
   "execution_count": 2,
   "id": "83aec7cf",
   "metadata": {},
   "outputs": [
    {
     "data": {
      "text/plain": [
       "STATION        0\n",
       "NAME           0\n",
       "LATITUDE       0\n",
       "LONGITUDE      0\n",
       "ELEVATION      0\n",
       "DATE           0\n",
       "AWND          69\n",
       "PRCP           0\n",
       "SNOW           0\n",
       "SNWD           0\n",
       "TAVG         365\n",
       "TMAX           0\n",
       "TMIN           0\n",
       "TSUN         365\n",
       "WT01         209\n",
       "WT02         356\n",
       "WT03         335\n",
       "WT04         365\n",
       "WT06         359\n",
       "WT08         308\n",
       "dtype: int64"
      ]
     },
     "execution_count": 2,
     "metadata": {},
     "output_type": "execute_result"
    }
   ],
   "source": [
    "weather = pd.read_csv(\"raw_data/2019_weather.csv\")\n",
    "weather.isnull().sum()"
   ]
  },
  {
   "cell_type": "code",
   "execution_count": 3,
   "id": "cfae1bad",
   "metadata": {},
   "outputs": [],
   "source": [
    "weather = weather.drop(['STATION', 'NAME', 'LATITUDE', 'LONGITUDE', 'ELEVATION', 'TSUN'], axis=1)"
   ]
  },
  {
   "cell_type": "code",
   "execution_count": 4,
   "id": "c29232c0",
   "metadata": {},
   "outputs": [],
   "source": [
    "# convert temperature\n",
    "def convert_to_C(F_degree):\n",
    "    C_degree = (5/9) * (F_degree - 32)\n",
    "    return C_degree"
   ]
  },
  {
   "cell_type": "code",
   "execution_count": 5,
   "id": "479e17f5",
   "metadata": {},
   "outputs": [],
   "source": [
    "# average Temperature\n",
    "weather['TMAX'] = convert_to_C(weather['TMAX'])\n",
    "weather['TMIN'] = convert_to_C(weather['TMIN'])\n",
    "weather['TAVG'] = (weather['TMAX'] + weather['TMIN'])/2\n",
    "\n",
    "# weather Type\n",
    "#weather['Weather'] = weather[['WT01', 'WT02', 'WT03', 'WT04', 'WT06', 'WT08']].sum(axis=1)\n",
    "weather['Weather'] = weather[['WT01', 'WT02', 'WT03', 'WT04', 'WT06', 'WT08']].isna().sum(axis=1)\n",
    "weather['Weather'] = np.where(weather['Weather'] == 6, 'Good', 'Bad')"
   ]
  },
  {
   "cell_type": "code",
   "execution_count": 6,
   "id": "aa8e1132",
   "metadata": {},
   "outputs": [],
   "source": [
    "weather_cleaned = weather.drop(['WT01', 'WT02', 'WT03', 'WT04', 'WT06', 'WT08'], axis=1)\n",
    "weather_cleaned.to_csv('preprocessed_data/2019_weather_processed.csv', index=False)"
   ]
  }
 ],
 "metadata": {
  "kernelspec": {
   "display_name": "Python 3",
   "language": "python",
   "name": "python3"
  },
  "language_info": {
   "codemirror_mode": {
    "name": "ipython",
    "version": 3
   },
   "file_extension": ".py",
   "mimetype": "text/x-python",
   "name": "python",
   "nbconvert_exporter": "python",
   "pygments_lexer": "ipython3",
   "version": "3.8.8"
  }
 },
 "nbformat": 4,
 "nbformat_minor": 5
}
