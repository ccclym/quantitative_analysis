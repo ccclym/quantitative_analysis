{
 "cells": [
  {
   "cell_type": "code",
   "execution_count": 1,
   "id": "0cf4b19d",
   "metadata": {},
   "outputs": [],
   "source": [
    "import pandas as pd\n",
    "import numpy as np\n",
    "import matplotlib.pyplot as plt\n",
    "from datetime import datetime\n",
    "\n",
    "import warnings\n",
    "warnings.filterwarnings(\"ignore\")\n",
    "\n",
    "from pandas.tseries.holiday import USFederalHolidayCalendar as calendar"
   ]
  },
  {
   "cell_type": "code",
   "execution_count": 2,
   "id": "9947eaa7-dad1-4b09-b0bd-b07f96dcf7b6",
   "metadata": {},
   "outputs": [],
   "source": [
    "def get_ordered_list(series):\n",
    "    dict_ = series.value_counts().to_dict()\n",
    "    package = [(key,value) for key, value in dict_.items()]\n",
    "    package.sort(key=lambda item: item[0], reverse=True) \n",
    "    return package\n",
    "\n",
    "def plot_ordered_list(package, log=False):\n",
    "    plt.figure(figsize=(20, 10))\n",
    "    plt.scatter([x for x, y in package], [np.log10(y) if log else y for x, y in package], s=5)"
   ]
  },
  {
   "cell_type": "markdown",
   "id": "e6343639",
   "metadata": {},
   "source": [
    "# Loading data"
   ]
  },
  {
   "cell_type": "code",
   "execution_count": 3,
   "id": "cbcc7538",
   "metadata": {},
   "outputs": [],
   "source": [
    "# read csv\n",
    "yellow_4 = pd.read_csv('raw_data/yellow_tripdata_2020-04.csv')\n",
    "yellow_5 = pd.read_csv('raw_data/yellow_tripdata_2020-05.csv')\n",
    "yellow_6 = pd.read_csv('raw_data/yellow_tripdata_2020-06.csv')\n",
    "\n",
    "yellow = yellow_4.append(yellow_5).append(yellow_6)\n",
    "old_shape = yellow.shape"
   ]
  },
  {
   "cell_type": "markdown",
   "id": "d9b430da",
   "metadata": {},
   "source": [
    "# Drop unuseful columns"
   ]
  },
  {
   "cell_type": "code",
   "execution_count": 4,
   "id": "186e35ed",
   "metadata": {},
   "outputs": [],
   "source": [
    "# Since tip/fare/total/trip_distance do not depend on these columns \n",
    "yellow = yellow.drop(['store_and_fwd_flag', 'extra', 'tolls_amount', 'congestion_surcharge'], axis=1)"
   ]
  },
  {
   "cell_type": "markdown",
   "id": "455fe999",
   "metadata": {
    "tags": []
   },
   "source": [
    "# Clean by Rule"
   ]
  },
  {
   "cell_type": "code",
   "execution_count": 5,
   "id": "7005b4e1-1753-4a3b-8e60-99198b3c3d99",
   "metadata": {},
   "outputs": [],
   "source": [
    "for colname in ['tpep_pickup_datetime', 'tpep_dropoff_datetime']:\n",
    "    yellow[colname] = pd.to_datetime(yellow[colname])\n",
    "    \n",
    "# restrict data in the valid time in 2019\n",
    "yellow = yellow.loc[(yellow['tpep_pickup_datetime'] <= datetime.strptime(\"2020-06-30 23:59:59\", '%Y-%m-%d %H:%M:%S')) &\n",
    "                    (yellow['tpep_pickup_datetime'] >= datetime.strptime(\"2020-04-01 00:00:00\", '%Y-%m-%d %H:%M:%S'))]\n",
    "\n",
    "yellow = yellow.loc[(yellow['tpep_dropoff_datetime'] <= datetime.strptime(\"2020-06-30 23:59:59\", '%Y-%m-%d %H:%M:%S')) &\n",
    "                    (yellow['tpep_dropoff_datetime'] >= datetime.strptime(\"2020-04-01 00:00:00\", '%Y-%m-%d %H:%M:%S'))]"
   ]
  },
  {
   "cell_type": "code",
   "execution_count": 6,
   "id": "edfa3dc1-9d8d-4dc7-9f5e-189540274b56",
   "metadata": {},
   "outputs": [],
   "source": [
    "# suspect new vendor, but inconsistent with data rule \n",
    "yellow = yellow.loc[yellow['VendorID'] != 4]\n",
    "\n",
    "yellow = yellow.loc[yellow['RatecodeID'].isin([1,2,3,4,5,6])]\n",
    "\n",
    "# suspect coupon???? \n",
    "# remove invalid values\n",
    "yellow = yellow.loc[yellow['fare_amount'] >= 2.5]\n",
    "\n",
    "yellow = yellow.loc[yellow['total_amount'] >= 2.5]\n",
    "\n",
    "yellow = yellow.loc[yellow['mta_tax'] == 0.5]\n",
    "\n",
    "yellow = yellow.loc[yellow['improvement_surcharge'] == 0.3]"
   ]
  },
  {
   "cell_type": "code",
   "execution_count": 7,
   "id": "98d9c83d",
   "metadata": {},
   "outputs": [],
   "source": [
    "# this is illegal \n",
    "# remove invalid passenger_count (0<passenger_count<=6)\n",
    "yellow = yellow.loc[(yellow['passenger_count'] > 0) & (yellow['passenger_count'] <= 6)]\n",
    "\n",
    "yellow = yellow.loc[(yellow['tip_amount'] >0)]\n",
    "\n",
    "# we only want credit card. cash payment does not record tip. \n",
    "yellow = yellow.loc[yellow['payment_type'] == 1]"
   ]
  },
  {
   "cell_type": "code",
   "execution_count": 8,
   "id": "971ab609-df82-40e0-afb0-cc9e76fda497",
   "metadata": {},
   "outputs": [],
   "source": [
    "# remove the missing values \n",
    "yellow = yellow.dropna()"
   ]
  },
  {
   "cell_type": "markdown",
   "id": "0a593ada",
   "metadata": {},
   "source": [
    "## box plot before removing outliers"
   ]
  },
  {
   "cell_type": "code",
   "execution_count": 9,
   "id": "c7a26113",
   "metadata": {},
   "outputs": [
    {
     "data": {
      "text/plain": [
       "Text(0.5, 1.0, 'box plot of tip_distance')"
      ]
     },
     "execution_count": 9,
     "metadata": {},
     "output_type": "execute_result"
    },
    {
     "data": {
      "image/png": "[encoded data removed]",
      "text/plain": [
       "<Figure size 720x576 with 1 Axes>"
      ]
     },
     "metadata": {
      "needs_background": "light"
     },
     "output_type": "display_data"
    }
   ],
   "source": [
    "# box plot of trip distance, tip_amount, fare_amount\n",
    "plt.figure(figsize=(10,8))\n",
    "plt.boxplot(yellow['trip_distance'])\n",
    "plt.title('box plot of tip_distance', fontsize=20)"
   ]
  },
  {
   "cell_type": "code",
   "execution_count": 10,
   "id": "31d081dc",
   "metadata": {},
   "outputs": [
    {
     "data": {
      "text/plain": [
       "Text(0.5, 1.0, 'box plot of fare and tip amount')"
      ]
     },
     "execution_count": 10,
     "metadata": {},
     "output_type": "execute_result"
    },
    {
     "data": {
      "image/png": "[encoded data removed]",
      "text/plain": [
       "<Figure size 720x576 with 1 Axes>"
      ]
     },
     "metadata": {
      "needs_background": "light"
     },
     "output_type": "display_data"
    }
   ],
   "source": [
    "plt.figure(figsize=(10,8))\n",
    "col_amount = ['fare_amount', 'tip_amount']\n",
    "plt.boxplot(yellow[col_amount])\n",
    "plt.title('box plot of fare and tip amount', fontsize=20)"
   ]
  },
  {
   "cell_type": "markdown",
   "id": "c61ab0cf-7d44-4ee9-a111-8a92973b8cde",
   "metadata": {},
   "source": [
    "# Clean by outlier"
   ]
  },
  {
   "cell_type": "code",
   "execution_count": 11,
   "id": "d9fec088-da7c-47fa-80a8-b8453e9f6d5d",
   "metadata": {},
   "outputs": [],
   "source": [
    "#after examining map, get radius, deduct plausible range as 50 miles\n",
    "yellow = yellow.loc[(yellow['trip_distance'] > 0) & (yellow['trip_distance'] <= 50)]\n",
    "\n",
    "yellow['tip_percent'] = yellow['tip_amount'] / yellow['fare_amount']\n",
    "\n",
    "col = ['tip_percent', 'fare_amount']\n",
    "Q1 = yellow[col].quantile(0.25)\n",
    "Q3 = yellow[col].quantile(0.75)\n",
    "IQR = Q3 - Q1    #IQR is interquartile range\n",
    "filter_a = ((yellow[col] >= Q1 - 6 * IQR) & (yellow[col] <= Q3 + 6 * IQR)).all(axis=1)\n",
    "yellow = yellow.loc[filter_a]"
   ]
  },
  {
   "cell_type": "code",
   "execution_count": 12,
   "id": "346b72cc-cdf8-41a2-b0a0-ee50dff62e4d",
   "metadata": {},
   "outputs": [
    {
     "data": {
      "text/plain": [
       "Text(0.5, 1.0, 'box plot of fare and tip amount (outliers removed)')"
      ]
     },
     "execution_count": 12,
     "metadata": {},
     "output_type": "execute_result"
    },
    {
     "data": {
      "image/png": "[encoded data removed]",
      "text/plain": [
       "<Figure size 720x576 with 1 Axes>"
      ]
     },
     "metadata": {
      "needs_background": "light"
     },
     "output_type": "display_data"
    }
   ],
   "source": [
    "plt.figure(figsize=(10,8))\n",
    "plt.boxplot(yellow[col_amount])\n",
    "plt.title('box plot of fare and tip amount (outliers removed)', fontsize=20)"
   ]
  },
  {
   "cell_type": "markdown",
   "id": "4b5aef3a",
   "metadata": {},
   "source": [
    "# Generate and clean by duration "
   ]
  },
  {
   "cell_type": "code",
   "execution_count": 13,
   "id": "0eb84390",
   "metadata": {},
   "outputs": [],
   "source": [
    "yellow['date'] = yellow['tpep_pickup_datetime'].dt.normalize()\n",
    "# restrict the duration\n",
    "yellow['duration'] = yellow['tpep_dropoff_datetime'] - yellow['tpep_pickup_datetime']\n",
    "yellow['duration'] = yellow['duration'].dt.seconds / 60\n",
    "\n",
    "# remove invalid duration \n",
    "yellow = yellow.loc[(yellow['duration'] > 0)]"
   ]
  },
  {
   "cell_type": "markdown",
   "id": "0b19131c",
   "metadata": {
    "tags": []
   },
   "source": [
    "# Generate date type"
   ]
  },
  {
   "cell_type": "code",
   "execution_count": 14,
   "id": "6ce26580",
   "metadata": {},
   "outputs": [],
   "source": [
    "yellow.loc[yellow['date'].dt.dayofweek <= 5, 'date_type'] = 'Workday'\n",
    "yellow.loc[yellow['date'].dt.dayofweek > 5, 'date_type'] = 'Weekend'\n",
    "\n",
    "cal = calendar()\n",
    "holidays = cal.holidays(start='2020-04-01', end='2020-06-30')\n",
    "yellow.loc[yellow['date'].isin(holidays), 'date_type'] = 'Holiday'"
   ]
  },
  {
   "cell_type": "markdown",
   "id": "c4e32788",
   "metadata": {},
   "source": [
    "# Generate income per unit time "
   ]
  },
  {
   "cell_type": "code",
   "execution_count": 15,
   "id": "8802b761",
   "metadata": {},
   "outputs": [],
   "source": [
    "yellow['fare_per_minute'] = yellow['fare_amount'] / yellow['duration']"
   ]
  },
  {
   "cell_type": "markdown",
   "id": "a9900d68",
   "metadata": {},
   "source": [
    "# Combine weather dataset"
   ]
  },
  {
   "cell_type": "code",
   "execution_count": 16,
   "id": "64a6ba02",
   "metadata": {},
   "outputs": [],
   "source": [
    "weather = pd.read_csv('preprocessed_data/2020_weather_processed.csv')"
   ]
  },
  {
   "cell_type": "code",
   "execution_count": 17,
   "id": "4509b22f",
   "metadata": {},
   "outputs": [],
   "source": [
    "yellow['date_str'] = yellow['date'].astype(str)\n",
    "yellow = pd.merge(yellow, weather, left_on='date_str', right_on='DATE').drop('DATE', axis=1)"
   ]
  },
  {
   "cell_type": "markdown",
   "id": "defe0824-a087-463b-bc85-8e0564ac672d",
   "metadata": {},
   "source": [
    "# time of day"
   ]
  },
  {
   "cell_type": "code",
   "execution_count": 18,
   "id": "c1354f82-6e56-4cf5-a688-094b5b717d30",
   "metadata": {},
   "outputs": [],
   "source": [
    "# 0=00:00-01:00 23=23:00-24:00\n",
    "yellow['time_of_day'] = yellow['tpep_pickup_datetime'].dt.hour"
   ]
  },
  {
   "cell_type": "markdown",
   "id": "e98c0c46-0815-4e09-96d8-b07a20130eb6",
   "metadata": {},
   "source": [
    "# finally, write to disk"
   ]
  },
  {
   "cell_type": "code",
   "execution_count": 19,
   "id": "15ed52ec-6d6f-48bf-8f91-e74172361103",
   "metadata": {},
   "outputs": [],
   "source": [
    "yellow.to_csv('preprocessed_data/2020_yellow_processed.csv', index=False)"
   ]
  },
  {
   "cell_type": "code",
   "execution_count": 20,
   "id": "471227a7-6f03-4a15-b01d-e5d00efb3936",
   "metadata": {},
   "outputs": [
    {
     "data": {
      "text/plain": [
       "'47.49%'"
      ]
     },
     "execution_count": 20,
     "metadata": {},
     "output_type": "execute_result"
    }
   ],
   "source": [
    "f'{yellow.shape[0] / old_shape[0]:.2%}'"
   ]
  }
 ],
 "metadata": {
  "kernelspec": {
   "display_name": "Python 3",
   "language": "python",
   "name": "python3"
  },
  "language_info": {
   "codemirror_mode": {
    "name": "ipython",
    "version": 3
   },
   "file_extension": ".py",
   "mimetype": "text/x-python",
   "name": "python",
   "nbconvert_exporter": "python",
   "pygments_lexer": "ipython3",
   "version": "3.8.8"
  }
 },
 "nbformat": 4,
 "nbformat_minor": 5
}
