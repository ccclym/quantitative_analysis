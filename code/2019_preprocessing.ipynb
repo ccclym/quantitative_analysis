{
 "cells": [
  {
   "cell_type": "code",
   "execution_count": 1,
   "id": "0cf4b19d",
   "metadata": {},
   "outputs": [],
   "source": [
    "import pandas as pd\n",
    "import numpy as np\n",
    "import matplotlib.pyplot as plt\n",
    "from datetime import datetime\n",
    "\n",
    "import warnings\n",
    "warnings.filterwarnings(\"ignore\")\n",
    "\n",
    "from pandas.tseries.holiday import USFederalHolidayCalendar as calendar"
   ]
  },
  {
   "cell_type": "markdown",
   "id": "e6343639",
   "metadata": {},
   "source": [
    "# Loading data"
   ]
  },
  {
   "cell_type": "code",
   "execution_count": 2,
   "id": "cbcc7538",
   "metadata": {},
   "outputs": [],
   "source": [
    "# read csv\n",
    "\n",
    "yellow_1 = pd.read_csv('raw_data/yellow_tripdata_2019-01.csv')\n",
    "yellow_2 = pd.read_csv('raw_data/yellow_tripdata_2019-02.csv')\n",
    "yellow_3 = pd.read_csv('raw_data/yellow_tripdata_2019-03.csv')\n",
    "yellow_4 = pd.read_csv('raw_data/yellow_tripdata_2019-04.csv')\n",
    "yellow_5 = pd.read_csv('raw_data/yellow_tripdata_2019-05.csv')\n",
    "yellow_6 = pd.read_csv('raw_data/yellow_tripdata_2019-06.csv')\n",
    "\n",
    "yellow = yellow_1.append(yellow_2).append(yellow_3).append(yellow_4).append(yellow_5).append(yellow_6)\n",
    "old_shape = yellow.shape"
   ]
  },
  {
   "cell_type": "markdown",
   "id": "d9b430da",
   "metadata": {},
   "source": [
    "# Drop unuseful columns"
   ]
  },
  {
   "cell_type": "code",
   "execution_count": 3,
   "id": "186e35ed",
   "metadata": {},
   "outputs": [],
   "source": [
    "# Since tip/fare/total/trip_distance do not depend on these columns \n",
    "yellow = yellow.drop(['store_and_fwd_flag', 'extra', 'tolls_amount', 'congestion_surcharge'], axis=1)"
   ]
  },
  {
   "cell_type": "markdown",
   "id": "455fe999",
   "metadata": {
    "tags": []
   },
   "source": [
    "# Clean by Rule"
   ]
  },
  {
   "cell_type": "code",
   "execution_count": 4,
   "id": "7005b4e1-1753-4a3b-8e60-99198b3c3d99",
   "metadata": {},
   "outputs": [],
   "source": [
    "# converted pick-up and drop-off time to datetime\n",
    "for colname in ['tpep_pickup_datetime', 'tpep_dropoff_datetime']:\n",
    "    yellow[colname] = pd.to_datetime(yellow[colname])\n",
    "    \n",
    "# restricted data in the valid time in 2019\n",
    "yellow = yellow.loc[(yellow['tpep_pickup_datetime'] <= datetime.strptime(\"2019-06-30 23:59:59\", '%Y-%m-%d %H:%M:%S')) &\n",
    "                    (yellow['tpep_pickup_datetime'] >= datetime.strptime(\"2019-01-01 00:00:00\", '%Y-%m-%d %H:%M:%S'))]\n",
    "\n",
    "yellow = yellow.loc[(yellow['tpep_dropoff_datetime'] <= datetime.strptime(\"2019-06-30 23:59:59\", '%Y-%m-%d %H:%M:%S')) &\n",
    "                    (yellow['tpep_dropoff_datetime'] >= datetime.strptime(\"2019-01-01 00:00:00\", '%Y-%m-%d %H:%M:%S'))]"
   ]
  },
  {
   "cell_type": "code",
   "execution_count": 5,
   "id": "edfa3dc1-9d8d-4dc7-9f5e-189540274b56",
   "metadata": {},
   "outputs": [],
   "source": [
    "# cleaned by the dictionary from TLC trip data\n",
    "yellow = yellow.loc[yellow['VendorID'] != 4]\n",
    "\n",
    "yellow = yellow.loc[yellow['RatecodeID'].isin([1,2,3,4,5,6])]\n",
    "\n",
    "yellow = yellow.loc[yellow['fare_amount'] >= 2.5]\n",
    "\n",
    "yellow = yellow.loc[yellow['total_amount'] >= 2.5]\n",
    "\n",
    "yellow = yellow.loc[yellow['mta_tax'] == 0.5]\n",
    "\n",
    "yellow = yellow.loc[yellow['improvement_surcharge'] == 0.3]"
   ]
  },
  {
   "cell_type": "code",
   "execution_count": 6,
   "id": "98d9c83d",
   "metadata": {},
   "outputs": [],
   "source": [
    "# this is illegal from TLC trip data\n",
    "# removed invalid passenger_count (0<passenger_count<=6)\n",
    "yellow = yellow.loc[(yellow['passenger_count'] > 0) & (yellow['passenger_count'] <= 6)]\n",
    "\n",
    "# only want credit card. cash payment does not record tip. \n",
    "# removed invalid payment_type\n",
    "yellow = yellow.loc[yellow['payment_type'] == 1]"
   ]
  },
  {
   "cell_type": "code",
   "execution_count": 7,
   "id": "4cd985e4-8b8c-4ada-8219-412db4ef2f46",
   "metadata": {},
   "outputs": [],
   "source": [
    "# Assumed that passengers who paid by card must also paid the tip\n",
    "yellow = yellow.loc[(yellow['tip_amount'] >0)]"
   ]
  },
  {
   "cell_type": "code",
   "execution_count": 8,
   "id": "971ab609-df82-40e0-afb0-cc9e76fda497",
   "metadata": {},
   "outputs": [],
   "source": [
    "# removed the missing values \n",
    "yellow = yellow.dropna()"
   ]
  },
  {
   "cell_type": "markdown",
   "id": "0a593ada",
   "metadata": {},
   "source": [
    "## box plot before removing outliers"
   ]
  },
  {
   "cell_type": "code",
   "execution_count": 9,
   "id": "c7a26113",
   "metadata": {},
   "outputs": [
    {
     "data": {
      "image/png": "[encoded data removed]",
      "text/plain": [
       "<Figure size 720x576 with 1 Axes>"
      ]
     },
     "metadata": {
      "needs_background": "light"
     },
     "output_type": "display_data"
    }
   ],
   "source": [
    "# box plot of trip distance\n",
    "plt.figure(figsize=(10,8))\n",
    "plt.boxplot(yellow['trip_distance'])\n",
    "plt.title('box plot of tip_distance', fontsize=15)\n",
    "plt.xlabel('trip_distance', fontsize=12)\n",
    "plt.savefig('box plot of trip distance.png')"
   ]
  },
  {
   "cell_type": "code",
   "execution_count": 10,
   "id": "31d081dc",
   "metadata": {},
   "outputs": [
    {
     "data": {
      "image/png": "[encoded data removed]",
      "text/plain": [
       "<Figure size 720x576 with 1 Axes>"
      ]
     },
     "metadata": {
      "needs_background": "light"
     },
     "output_type": "display_data"
    }
   ],
   "source": [
    "# box plot of tip_amount, fare_amount\n",
    "\n",
    "plt.figure(figsize=(10,8))\n",
    "col_amount = ['fare_amount', 'tip_amount']\n",
    "plt.boxplot(yellow[col_amount])\n",
    "plt.title('box plot of fare and tip amount', fontsize=15)\n",
    "plt.xlabel(col_amount, fontsize=12)\n",
    "plt.savefig('box plot of fare and tip amount.png')"
   ]
  },
  {
   "cell_type": "markdown",
   "id": "c61ab0cf-7d44-4ee9-a111-8a92973b8cde",
   "metadata": {},
   "source": [
    "# Clean by outlier"
   ]
  },
  {
   "cell_type": "code",
   "execution_count": 11,
   "id": "d9fec088-da7c-47fa-80a8-b8453e9f6d5d",
   "metadata": {},
   "outputs": [],
   "source": [
    "#after examining map, get radius, deduct plausible range as 50 miles\n",
    "yellow = yellow.loc[(yellow['trip_distance'] > 0) & (yellow['trip_distance'] <= 50)]\n",
    "\n",
    "yellow['tip_percent'] = yellow['tip_amount'] / yellow['fare_amount']\n",
    "\n",
    "col = ['tip_percent', 'fare_amount']\n",
    "Q1 = yellow[col].quantile(0.25)\n",
    "Q3 = yellow[col].quantile(0.75)\n",
    "IQR = Q3 - Q1    #IQR is interquartile range\n",
    "filter_a = ((yellow[col] >= Q1 - 6 * IQR) & (yellow[col] <= Q3 + 6 * IQR)).all(axis=1)\n",
    "yellow = yellow.loc[filter_a]"
   ]
  },
  {
   "cell_type": "code",
   "execution_count": 12,
   "id": "346b72cc-cdf8-41a2-b0a0-ee50dff62e4d",
   "metadata": {},
   "outputs": [
    {
     "data": {
      "image/png": "[encoded data removed]",
      "text/plain": [
       "<Figure size 720x576 with 1 Axes>"
      ]
     },
     "metadata": {
      "needs_background": "light"
     },
     "output_type": "display_data"
    }
   ],
   "source": [
    "plt.figure(figsize=(10,8))\n",
    "plt.boxplot(yellow[col_amount])\n",
    "plt.title('box plot of fare and tip amount (outliers removed)', fontsize=15)\n",
    "plt.xlabel(col_amount, fontsize=12)\n",
    "plt.savefig('box plot of fare and tip amount (outliers removed).png')"
   ]
  },
  {
   "cell_type": "code",
   "execution_count": 13,
   "id": "e4246ad7-0eef-4359-8177-24c6ff13c8fe",
   "metadata": {},
   "outputs": [
    {
     "data": {
      "image/png": "[encoded data removed]",
      "text/plain": [
       "<Figure size 720x576 with 1 Axes>"
      ]
     },
     "metadata": {
      "needs_background": "light"
     },
     "output_type": "display_data"
    }
   ],
   "source": [
    "plt.figure(figsize=(10,8))\n",
    "plt.boxplot(yellow['trip_distance'])\n",
    "plt.title('box plot of tip_distance (outliers removed)', fontsize=15)\n",
    "plt.xlabel('trip_distance', fontsize=12)\n",
    "plt.savefig('box plot of trip distance (outliers removed).png')"
   ]
  },
  {
   "cell_type": "markdown",
   "id": "4b5aef3a",
   "metadata": {},
   "source": [
    "# Generate and clean by duration "
   ]
  },
  {
   "cell_type": "code",
   "execution_count": 14,
   "id": "0eb84390",
   "metadata": {},
   "outputs": [],
   "source": [
    "# normalize the date\n",
    "yellow['date'] = yellow['tpep_pickup_datetime'].dt.normalize()\n",
    "\n",
    "# calculate the duration convert its units to minutes\n",
    "yellow['duration'] = yellow['tpep_dropoff_datetime'] - yellow['tpep_pickup_datetime']\n",
    "yellow['duration'] = yellow['duration'].dt.seconds / 60\n",
    "\n",
    "# remove invalid duration \n",
    "yellow = yellow.loc[(yellow['duration'] > 0)]"
   ]
  },
  {
   "cell_type": "markdown",
   "id": "0b19131c",
   "metadata": {
    "tags": []
   },
   "source": [
    "# Generate date type"
   ]
  },
  {
   "cell_type": "code",
   "execution_count": 15,
   "id": "6ce26580",
   "metadata": {},
   "outputs": [],
   "source": [
    "yellow.loc[yellow['date'].dt.dayofweek <= 5, 'date_type'] = 'Workday'\n",
    "yellow.loc[yellow['date'].dt.dayofweek > 5, 'date_type'] = 'Weekend'\n",
    "\n",
    "cal = calendar()\n",
    "holidays = cal.holidays(start='2019-01-01', end='2019-06-30')\n",
    "yellow.loc[yellow['date'].isin(holidays), 'date_type'] = 'Holiday'"
   ]
  },
  {
   "cell_type": "markdown",
   "id": "c4e32788",
   "metadata": {},
   "source": [
    "# Generate income per unit time "
   ]
  },
  {
   "cell_type": "code",
   "execution_count": 16,
   "id": "8802b761",
   "metadata": {},
   "outputs": [],
   "source": [
    "yellow['fare_per_minute'] = yellow['fare_amount'] / yellow['duration']"
   ]
  },
  {
   "cell_type": "markdown",
   "id": "a9900d68",
   "metadata": {},
   "source": [
    "# Combine weather dataset"
   ]
  },
  {
   "cell_type": "code",
   "execution_count": 17,
   "id": "64a6ba02",
   "metadata": {},
   "outputs": [],
   "source": [
    "weather = pd.read_csv('preprocessed_data/2019_weather_processed.csv')"
   ]
  },
  {
   "cell_type": "code",
   "execution_count": 18,
   "id": "4509b22f",
   "metadata": {},
   "outputs": [],
   "source": [
    "yellow['date_str'] = yellow['date'].astype(str)\n",
    "yellow = pd.merge(yellow, weather, left_on='date_str', right_on='DATE').drop('DATE', axis=1)"
   ]
  },
  {
   "cell_type": "markdown",
   "id": "defe0824-a087-463b-bc85-8e0564ac672d",
   "metadata": {},
   "source": [
    "# Compute time of day"
   ]
  },
  {
   "cell_type": "code",
   "execution_count": 19,
   "id": "c1354f82-6e56-4cf5-a688-094b5b717d30",
   "metadata": {},
   "outputs": [],
   "source": [
    "# 0=00:00-01:00 23=23:00-24:00\n",
    "yellow['time_of_day'] = yellow['tpep_pickup_datetime'].dt.hour"
   ]
  },
  {
   "cell_type": "markdown",
   "id": "e98c0c46-0815-4e09-96d8-b07a20130eb6",
   "metadata": {},
   "source": [
    "# Finally, convert to csv file"
   ]
  },
  {
   "cell_type": "code",
   "execution_count": 20,
   "id": "15ed52ec-6d6f-48bf-8f91-e74172361103",
   "metadata": {},
   "outputs": [],
   "source": [
    "yellow.to_csv('preprocessed_data/2019_yellow_processed.csv', index=False)"
   ]
  },
  {
   "cell_type": "code",
   "execution_count": 21,
   "id": "471227a7-6f03-4a15-b01d-e5d00efb3936",
   "metadata": {},
   "outputs": [
    {
     "data": {
      "text/plain": [
       "'67.10%'"
      ]
     },
     "execution_count": 21,
     "metadata": {},
     "output_type": "execute_result"
    }
   ],
   "source": [
    "f'{yellow.shape[0] / old_shape[0]:.2%}'"
   ]
  }
 ],
 "metadata": {
  "kernelspec": {
   "display_name": "Python 3",
   "language": "python",
   "name": "python3"
  },
  "language_info": {
   "codemirror_mode": {
    "name": "ipython",
    "version": 3
   },
   "file_extension": ".py",
   "mimetype": "text/x-python",
   "name": "python",
   "nbconvert_exporter": "python",
   "pygments_lexer": "ipython3",
   "version": "3.8.8"
  }
 },
 "nbformat": 4,
 "nbformat_minor": 5
}
